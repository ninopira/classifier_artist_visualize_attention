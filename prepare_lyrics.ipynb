{
 "cells": [
  {
   "cell_type": "code",
   "execution_count": 1,
   "metadata": {
    "ExecuteTime": {
     "end_time": "2020-03-17T08:21:05.447424Z",
     "start_time": "2020-03-17T08:21:02.713309Z"
    }
   },
   "outputs": [],
   "source": [
    "import requests\n",
    "from bs4 import BeautifulSoup\n",
    "import pandas as pd\n",
    "import re\n",
    "from time import sleep\n",
    "import sys\n",
    "import MeCab\n",
    "import numpy as np\n",
    "from PIL import Image\n",
    "from sklearn.feature_extraction.text import TfidfVectorizer\n",
    "import matplotlib.pyplot as plt\n",
    "from tqdm import tqdm_notebook as tqdm\n",
    "import warnings\n",
    "%matplotlib inline\n",
    "warnings.simplefilter('ignore')"
   ]
  },
  {
   "cell_type": "markdown",
   "metadata": {},
   "source": [
    "# スクレイピング"
   ]
  },
  {
   "cell_type": "code",
   "execution_count": 12,
   "metadata": {
    "ExecuteTime": {
     "end_time": "2020-03-17T08:31:15.953223Z",
     "start_time": "2020-03-17T08:31:15.949634Z"
    }
   },
   "outputs": [],
   "source": [
    "def scraping_web_page(url):\n",
    "    sleep(0.5)\n",
    "    html = requests.get(url)\n",
    "    soup = BeautifulSoup(html.content, 'html.parser')\n",
    "    return soup"
   ]
  },
  {
   "cell_type": "code",
   "execution_count": 13,
   "metadata": {
    "ExecuteTime": {
     "end_time": "2020-03-17T08:31:17.972543Z",
     "start_time": "2020-03-17T08:31:17.957396Z"
    }
   },
   "outputs": [],
   "source": [
    "def scraping_lyric(urls):\n",
    "    artist_dfs = []\n",
    "    for url in urls:\n",
    "        #曲一覧ページをスクレイピングする\n",
    "        soup = scraping_web_page(url)\n",
    "        #htmlをパースして曲名、各曲URL、アーティスト名、作詞、作曲者名を取得する\n",
    "        contents = []\n",
    "        contents.append(soup.find_all(href=re.compile('/song/\\d+/$')))\n",
    "        contents.append(soup.find_all(href=re.compile('/song/\\d+/$')))\n",
    "        contents.append(soup.find_all(class_=re.compile('td2')))\n",
    "        contents.append(soup.find_all(class_=re.compile('td3')))\n",
    "        contents.append(soup.find_all(class_=re.compile('td4')))\n",
    "        infomations = []\n",
    "        for i, content in enumerate(contents):\n",
    "            tmp_list = []\n",
    "            for element in content:\n",
    "                if i == 0:\n",
    "                    tmp_list.append(element.get('href'))\n",
    "                else:\n",
    "                    tmp_list.append(element.string)\n",
    "            infomations.append(tmp_list)\n",
    "        #DataFrameにする\n",
    "        artist_df = pd.DataFrame({\n",
    "            'URL': infomations[0],\n",
    "            'SongName': infomations[1],\n",
    "            'Artist': infomations[2],\n",
    "            'Lyricist': infomations[3],\n",
    "            'Composer': infomations[4]\n",
    "        })\n",
    "        #URLにホストネームを付加\n",
    "        artist_df['URL'] = artist_df['URL'].apply(lambda x: 'https://www.uta-net.com' + x)\n",
    "        artist_dfs.append(artist_df)\n",
    "    df_all = pd.concat(artist_dfs)\n",
    "    #各曲のページをスクレイピングする\n",
    "    contents_list = []\n",
    "    for i, url in tqdm(df_all['URL'].iteritems(), total=len(df_all)):\n",
    "        contents_list.append(scraping_web_page(url))\n",
    "    #歌詞、発売日、商品番号をdataframeに格納する\n",
    "    lyrics = []\n",
    "    sales_dates = []\n",
    "    cd_nums = []\n",
    "    for contents in contents_list:\n",
    "        lyrics.append(contents.find(id='kashi_area').text)\n",
    "        sales_dates.append(contents.find(id='view_amazon').text[4:14])\n",
    "        cd_nums.append(contents.find(id='view_amazon').text[19:28])\n",
    "    df_all['Lyric'] = lyrics\n",
    "    df_all['Sales_Date'] = sales_dates\n",
    "    df_all['CD_Number'] = cd_nums\n",
    "    \n",
    "    return df_all"
   ]
  },
  {
   "cell_type": "code",
   "execution_count": 14,
   "metadata": {
    "ExecuteTime": {
     "end_time": "2020-03-17T08:35:07.921305Z",
     "start_time": "2020-03-17T08:31:24.742167Z"
    }
   },
   "outputs": [
    {
     "data": {
      "application/vnd.jupyter.widget-view+json": {
       "model_id": "07ae753095bc4f1b94c75da5b587f976",
       "version_major": 2,
       "version_minor": 0
      },
      "text/plain": [
       "HBox(children=(FloatProgress(value=0.0, max=347.0), HTML(value='')))"
      ]
     },
     "metadata": {},
     "output_type": "display_data"
    },
    {
     "name": "stdout",
     "output_type": "stream",
     "text": [
      "\n"
     ]
    },
    {
     "data": {
      "text/html": [
       "<div>\n",
       "<style scoped>\n",
       "    .dataframe tbody tr th:only-of-type {\n",
       "        vertical-align: middle;\n",
       "    }\n",
       "\n",
       "    .dataframe tbody tr th {\n",
       "        vertical-align: top;\n",
       "    }\n",
       "\n",
       "    .dataframe thead th {\n",
       "        text-align: right;\n",
       "    }\n",
       "</style>\n",
       "<table border=\"1\" class=\"dataframe\">\n",
       "  <thead>\n",
       "    <tr style=\"text-align: right;\">\n",
       "      <th></th>\n",
       "      <th>Artist</th>\n",
       "      <th>Composer</th>\n",
       "      <th>Lyricist</th>\n",
       "      <th>SongName</th>\n",
       "      <th>URL</th>\n",
       "      <th>Lyric</th>\n",
       "      <th>Sales_Date</th>\n",
       "      <th>CD_Number</th>\n",
       "    </tr>\n",
       "  </thead>\n",
       "  <tbody>\n",
       "    <tr>\n",
       "      <th>0</th>\n",
       "      <td>B'z</td>\n",
       "      <td>Takahiro Matsumoto</td>\n",
       "      <td>Kohshi Inaba</td>\n",
       "      <td>I WANNA DANCE Wicked Beat Style</td>\n",
       "      <td>https://www.uta-net.com/song/54892/</td>\n",
       "      <td>Crush! Crush! Taxi on a busy neon streetGive m...</td>\n",
       "      <td>：1990-06-2</td>\n",
       "      <td>：BMCR-900</td>\n",
       "    </tr>\n",
       "    <tr>\n",
       "      <th>1</th>\n",
       "      <td>B'z</td>\n",
       "      <td>松本孝弘</td>\n",
       "      <td>稲葉浩志</td>\n",
       "      <td>あいかわらずなボクら</td>\n",
       "      <td>https://www.uta-net.com/song/7938/</td>\n",
       "      <td>今まで好きなこともしたし たまに我慢もしてきた「あいつはダメだ」 なんてキミ勝手に決めないで...</td>\n",
       "      <td>：1991-11-2</td>\n",
       "      <td>：BMCR-64B</td>\n",
       "    </tr>\n",
       "    <tr>\n",
       "      <th>2</th>\n",
       "      <td>B'z</td>\n",
       "      <td>TAK MATSUMOTO</td>\n",
       "      <td>KOSHI INABA</td>\n",
       "      <td>愛と憎しみのハジマリ</td>\n",
       "      <td>https://www.uta-net.com/song/17979/</td>\n",
       "      <td>誰もが愛する者　守ろうとしてる頃　憎しみがスキをうかがう大破綻の雰囲気が世界中を取り巻いて朝...</td>\n",
       "      <td>：2003-09-1</td>\n",
       "      <td>：BMCV-800</td>\n",
       "    </tr>\n",
       "    <tr>\n",
       "      <th>3</th>\n",
       "      <td>B'z</td>\n",
       "      <td>松本孝弘</td>\n",
       "      <td>稲葉浩志</td>\n",
       "      <td>愛のバクダン</td>\n",
       "      <td>https://www.uta-net.com/song/25415/</td>\n",
       "      <td>今日も一日　不完全な世界きみが泣かなくても　誰か泣く人がこしらえた　悲しみのからくりなんとか...</td>\n",
       "      <td>：2005-03-0</td>\n",
       "      <td>：BMCV-400</td>\n",
       "    </tr>\n",
       "    <tr>\n",
       "      <th>4</th>\n",
       "      <td>B'z</td>\n",
       "      <td>TAK MATSUMOTO</td>\n",
       "      <td>KOSHI INABA</td>\n",
       "      <td>愛のprisoner</td>\n",
       "      <td>https://www.uta-net.com/song/26049/</td>\n",
       "      <td>I hate you, hate you　こらえきれずに夜の闇に吠える　涙流さないあなたのど...</td>\n",
       "      <td>：2000-12-0</td>\n",
       "      <td>：BMCR-704</td>\n",
       "    </tr>\n",
       "  </tbody>\n",
       "</table>\n",
       "</div>"
      ],
      "text/plain": [
       "  Artist            Composer      Lyricist                         SongName  \\\n",
       "0    B'z  Takahiro Matsumoto  Kohshi Inaba  I WANNA DANCE Wicked Beat Style   \n",
       "1    B'z                松本孝弘          稲葉浩志                       あいかわらずなボクら   \n",
       "2    B'z       TAK MATSUMOTO   KOSHI INABA                       愛と憎しみのハジマリ   \n",
       "3    B'z                松本孝弘          稲葉浩志                           愛のバクダン   \n",
       "4    B'z       TAK MATSUMOTO   KOSHI INABA                       愛のprisoner   \n",
       "\n",
       "                                   URL  \\\n",
       "0  https://www.uta-net.com/song/54892/   \n",
       "1   https://www.uta-net.com/song/7938/   \n",
       "2  https://www.uta-net.com/song/17979/   \n",
       "3  https://www.uta-net.com/song/25415/   \n",
       "4  https://www.uta-net.com/song/26049/   \n",
       "\n",
       "                                               Lyric  Sales_Date  CD_Number  \n",
       "0  Crush! Crush! Taxi on a busy neon streetGive m...  ：1990-06-2  ：BMCR-900  \n",
       "1  今まで好きなこともしたし たまに我慢もしてきた「あいつはダメだ」 なんてキミ勝手に決めないで...  ：1991-11-2  ：BMCR-64B  \n",
       "2  誰もが愛する者　守ろうとしてる頃　憎しみがスキをうかがう大破綻の雰囲気が世界中を取り巻いて朝...  ：2003-09-1  ：BMCV-800  \n",
       "3  今日も一日　不完全な世界きみが泣かなくても　誰か泣く人がこしらえた　悲しみのからくりなんとか...  ：2005-03-0  ：BMCV-400  \n",
       "4  I hate you, hate you　こらえきれずに夜の闇に吠える　涙流さないあなたのど...  ：2000-12-0  ：BMCR-704  "
      ]
     },
     "execution_count": 14,
     "metadata": {},
     "output_type": "execute_result"
    }
   ],
   "source": [
    "bz_urls = [ 'https://www.uta-net.com/artist/134/', 'https://www.uta-net.com/artist/134/0/2/']\n",
    "df_bz = scraping_lyric(bz_urls)\n",
    "df_bz.head()"
   ]
  },
  {
   "cell_type": "code",
   "execution_count": 15,
   "metadata": {
    "ExecuteTime": {
     "end_time": "2020-03-17T08:38:14.788867Z",
     "start_time": "2020-03-17T08:35:07.960887Z"
    }
   },
   "outputs": [
    {
     "data": {
      "application/vnd.jupyter.widget-view+json": {
       "model_id": "94dd4849f3474f93afb34b715c54fec4",
       "version_major": 2,
       "version_minor": 0
      },
      "text/plain": [
       "HBox(children=(FloatProgress(value=0.0, max=296.0), HTML(value='')))"
      ]
     },
     "metadata": {},
     "output_type": "display_data"
    },
    {
     "name": "stdout",
     "output_type": "stream",
     "text": [
      "\n"
     ]
    },
    {
     "data": {
      "text/html": [
       "<div>\n",
       "<style scoped>\n",
       "    .dataframe tbody tr th:only-of-type {\n",
       "        vertical-align: middle;\n",
       "    }\n",
       "\n",
       "    .dataframe tbody tr th {\n",
       "        vertical-align: top;\n",
       "    }\n",
       "\n",
       "    .dataframe thead th {\n",
       "        text-align: right;\n",
       "    }\n",
       "</style>\n",
       "<table border=\"1\" class=\"dataframe\">\n",
       "  <thead>\n",
       "    <tr style=\"text-align: right;\">\n",
       "      <th></th>\n",
       "      <th>Artist</th>\n",
       "      <th>Composer</th>\n",
       "      <th>Lyricist</th>\n",
       "      <th>SongName</th>\n",
       "      <th>URL</th>\n",
       "      <th>Lyric</th>\n",
       "      <th>Sales_Date</th>\n",
       "      <th>CD_Number</th>\n",
       "    </tr>\n",
       "  </thead>\n",
       "  <tbody>\n",
       "    <tr>\n",
       "      <th>0</th>\n",
       "      <td>GLAY</td>\n",
       "      <td>TAKURO</td>\n",
       "      <td>TAKURO</td>\n",
       "      <td>Into the Wild</td>\n",
       "      <td>https://www.uta-net.com/song/282725/</td>\n",
       "      <td>Hey Now Hey Now知りすぎたSilly GirlHey Now Hey Now言...</td>\n",
       "      <td>：2020-03-1</td>\n",
       "      <td>：PCCN-42ポ</td>\n",
       "    </tr>\n",
       "    <tr>\n",
       "      <th>1</th>\n",
       "      <td>GLAY</td>\n",
       "      <td>TAKURO</td>\n",
       "      <td>TAKURO</td>\n",
       "      <td>あゝ、無常</td>\n",
       "      <td>https://www.uta-net.com/song/275020/</td>\n",
       "      <td>鏡を見つめりゃ疲れきった男が笑うかつての眼光消え失せた痩せこけたほおでシケモク並べて占えば絶...</td>\n",
       "      <td>：2019-10-0</td>\n",
       "      <td>：PCCN-38ポ</td>\n",
       "    </tr>\n",
       "    <tr>\n",
       "      <th>2</th>\n",
       "      <td>GLAY</td>\n",
       "      <td>HISASHI</td>\n",
       "      <td>HISASHI</td>\n",
       "      <td>アイ</td>\n",
       "      <td>https://www.uta-net.com/song/16998/</td>\n",
       "      <td>夢と希望に踊る胸が刻む鼓動をすり抜けて裏通りが誘う猥雑に心奪われた暗闇の奏でるリアルとモラル...</td>\n",
       "      <td>：1998-04-2</td>\n",
       "      <td>：PODH-702</td>\n",
       "    </tr>\n",
       "    <tr>\n",
       "      <th>3</th>\n",
       "      <td>GLAY</td>\n",
       "      <td>TAKURO</td>\n",
       "      <td>TAKURO</td>\n",
       "      <td>I am xxx</td>\n",
       "      <td>https://www.uta-net.com/song/80048/</td>\n",
       "      <td>いつか眠りについた後は違う私で目覚めて来るから違う時代に同じ場所で私をどうか愛して欲しいいつ...</td>\n",
       "      <td>：2009-05-2</td>\n",
       "      <td>：TOCT-402</td>\n",
       "    </tr>\n",
       "    <tr>\n",
       "      <th>4</th>\n",
       "      <td>GLAY</td>\n",
       "      <td>TERU</td>\n",
       "      <td>TERU</td>\n",
       "      <td>I will～</td>\n",
       "      <td>https://www.uta-net.com/song/51311/</td>\n",
       "      <td>I Believe…奇麗事を語る日々はもう過ぎて　見る景色が色を失ってゆく支え合い生きてきた...</td>\n",
       "      <td>：2007-01-3</td>\n",
       "      <td>：TOCT-261</td>\n",
       "    </tr>\n",
       "  </tbody>\n",
       "</table>\n",
       "</div>"
      ],
      "text/plain": [
       "  Artist Composer Lyricist       SongName  \\\n",
       "0   GLAY   TAKURO   TAKURO  Into the Wild   \n",
       "1   GLAY   TAKURO   TAKURO          あゝ、無常   \n",
       "2   GLAY  HISASHI  HISASHI             アイ   \n",
       "3   GLAY   TAKURO   TAKURO       I am xxx   \n",
       "4   GLAY     TERU     TERU        I will～   \n",
       "\n",
       "                                    URL  \\\n",
       "0  https://www.uta-net.com/song/282725/   \n",
       "1  https://www.uta-net.com/song/275020/   \n",
       "2   https://www.uta-net.com/song/16998/   \n",
       "3   https://www.uta-net.com/song/80048/   \n",
       "4   https://www.uta-net.com/song/51311/   \n",
       "\n",
       "                                               Lyric  Sales_Date  CD_Number  \n",
       "0  Hey Now Hey Now知りすぎたSilly GirlHey Now Hey Now言...  ：2020-03-1  ：PCCN-42ポ  \n",
       "1  鏡を見つめりゃ疲れきった男が笑うかつての眼光消え失せた痩せこけたほおでシケモク並べて占えば絶...  ：2019-10-0  ：PCCN-38ポ  \n",
       "2  夢と希望に踊る胸が刻む鼓動をすり抜けて裏通りが誘う猥雑に心奪われた暗闇の奏でるリアルとモラル...  ：1998-04-2  ：PODH-702  \n",
       "3  いつか眠りについた後は違う私で目覚めて来るから違う時代に同じ場所で私をどうか愛して欲しいいつ...  ：2009-05-2  ：TOCT-402  \n",
       "4  I Believe…奇麗事を語る日々はもう過ぎて　見る景色が色を失ってゆく支え合い生きてきた...  ：2007-01-3  ：TOCT-261  "
      ]
     },
     "execution_count": 15,
     "metadata": {},
     "output_type": "execute_result"
    }
   ],
   "source": [
    "glay_urls = [ 'https://www.uta-net.com/artist/356/', 'https://www.uta-net.com/artist/356/0/2/']\n",
    "df_glay = scraping_lyric(glay_urls)\n",
    "df_glay.head()"
   ]
  },
  {
   "cell_type": "code",
   "execution_count": 16,
   "metadata": {
    "ExecuteTime": {
     "end_time": "2020-03-17T08:40:53.157797Z",
     "start_time": "2020-03-17T08:38:14.856596Z"
    }
   },
   "outputs": [
    {
     "data": {
      "application/vnd.jupyter.widget-view+json": {
       "model_id": "9f253f9ddd9947c7a5f0473009517919",
       "version_major": 2,
       "version_minor": 0
      },
      "text/plain": [
       "HBox(children=(FloatProgress(value=0.0, max=235.0), HTML(value='')))"
      ]
     },
     "metadata": {},
     "output_type": "display_data"
    },
    {
     "name": "stdout",
     "output_type": "stream",
     "text": [
      "\n"
     ]
    },
    {
     "data": {
      "text/html": [
       "<div>\n",
       "<style scoped>\n",
       "    .dataframe tbody tr th:only-of-type {\n",
       "        vertical-align: middle;\n",
       "    }\n",
       "\n",
       "    .dataframe tbody tr th {\n",
       "        vertical-align: top;\n",
       "    }\n",
       "\n",
       "    .dataframe thead th {\n",
       "        text-align: right;\n",
       "    }\n",
       "</style>\n",
       "<table border=\"1\" class=\"dataframe\">\n",
       "  <thead>\n",
       "    <tr style=\"text-align: right;\">\n",
       "      <th></th>\n",
       "      <th>Artist</th>\n",
       "      <th>Composer</th>\n",
       "      <th>Lyricist</th>\n",
       "      <th>SongName</th>\n",
       "      <th>URL</th>\n",
       "      <th>Lyric</th>\n",
       "      <th>Sales_Date</th>\n",
       "      <th>CD_Number</th>\n",
       "    </tr>\n",
       "  </thead>\n",
       "  <tbody>\n",
       "    <tr>\n",
       "      <th>0</th>\n",
       "      <td>Mr.Children</td>\n",
       "      <td>桜井和寿</td>\n",
       "      <td>桜井和寿</td>\n",
       "      <td>Birthday</td>\n",
       "      <td>https://www.uta-net.com/song/282273/</td>\n",
       "      <td>しばらくして　気付いたんだ　本物だって熱くなって　冷やかして　とっちらかってシャボン玉が食ら...</td>\n",
       "      <td>：2020-03-0</td>\n",
       "      <td>：TFCC-896</td>\n",
       "    </tr>\n",
       "    <tr>\n",
       "      <th>1</th>\n",
       "      <td>Mr.Children</td>\n",
       "      <td>桜井和寿</td>\n",
       "      <td>桜井和寿</td>\n",
       "      <td>君と重ねたモノローグ</td>\n",
       "      <td>https://www.uta-net.com/song/282272/</td>\n",
       "      <td>また会おう　この道のどこかでありがとう　この気持ち届くかな果てしなく続くこの時間の中でほんの...</td>\n",
       "      <td>：2020-03-0</td>\n",
       "      <td>：TFCC-896</td>\n",
       "    </tr>\n",
       "    <tr>\n",
       "      <th>2</th>\n",
       "      <td>Mr.Children</td>\n",
       "      <td>Kazutoshi Sakurai</td>\n",
       "      <td>Kazutoshi Sakurai</td>\n",
       "      <td>I</td>\n",
       "      <td>https://www.uta-net.com/song/105567/</td>\n",
       "      <td>もう　いいでしょう!?これで終わりにしようねぇ　どうでしょう!?君だってそう思うでしょ!?散...</td>\n",
       "      <td>：2010-12-0</td>\n",
       "      <td>：TFCC-863</td>\n",
       "    </tr>\n",
       "    <tr>\n",
       "      <th>3</th>\n",
       "      <td>Mr.Children</td>\n",
       "      <td>桜井和寿</td>\n",
       "      <td>桜井和寿</td>\n",
       "      <td>I Can Make It</td>\n",
       "      <td>https://www.uta-net.com/song/187713/</td>\n",
       "      <td>明け方　非現実的な夢をバスタブに浮かべてみる身体は疲れてるのに目は冴えるやるべきことは沢山「...</td>\n",
       "      <td>：2015-06-0</td>\n",
       "      <td>：TFCC-865</td>\n",
       "    </tr>\n",
       "    <tr>\n",
       "      <th>4</th>\n",
       "      <td>Mr.Children</td>\n",
       "      <td>Kazutoshi Sakurai</td>\n",
       "      <td>Kazutoshi Sakurai</td>\n",
       "      <td>I'm sorry</td>\n",
       "      <td>https://www.uta-net.com/song/24490/</td>\n",
       "      <td>あれは血迷ってた僕の思い過ごしでした八割位はあなたの言った通りでしたいましがた　人づてで　御...</td>\n",
       "      <td>：2002-07-1</td>\n",
       "      <td>：TFCC-890</td>\n",
       "    </tr>\n",
       "  </tbody>\n",
       "</table>\n",
       "</div>"
      ],
      "text/plain": [
       "        Artist           Composer           Lyricist       SongName  \\\n",
       "0  Mr.Children               桜井和寿               桜井和寿       Birthday   \n",
       "1  Mr.Children               桜井和寿               桜井和寿     君と重ねたモノローグ   \n",
       "2  Mr.Children  Kazutoshi Sakurai  Kazutoshi Sakurai              I   \n",
       "3  Mr.Children               桜井和寿               桜井和寿  I Can Make It   \n",
       "4  Mr.Children  Kazutoshi Sakurai  Kazutoshi Sakurai      I'm sorry   \n",
       "\n",
       "                                    URL  \\\n",
       "0  https://www.uta-net.com/song/282273/   \n",
       "1  https://www.uta-net.com/song/282272/   \n",
       "2  https://www.uta-net.com/song/105567/   \n",
       "3  https://www.uta-net.com/song/187713/   \n",
       "4   https://www.uta-net.com/song/24490/   \n",
       "\n",
       "                                               Lyric  Sales_Date  CD_Number  \n",
       "0  しばらくして　気付いたんだ　本物だって熱くなって　冷やかして　とっちらかってシャボン玉が食ら...  ：2020-03-0  ：TFCC-896  \n",
       "1  また会おう　この道のどこかでありがとう　この気持ち届くかな果てしなく続くこの時間の中でほんの...  ：2020-03-0  ：TFCC-896  \n",
       "2  もう　いいでしょう!?これで終わりにしようねぇ　どうでしょう!?君だってそう思うでしょ!?散...  ：2010-12-0  ：TFCC-863  \n",
       "3  明け方　非現実的な夢をバスタブに浮かべてみる身体は疲れてるのに目は冴えるやるべきことは沢山「...  ：2015-06-0  ：TFCC-865  \n",
       "4  あれは血迷ってた僕の思い過ごしでした八割位はあなたの言った通りでしたいましがた　人づてで　御...  ：2002-07-1  ：TFCC-890  "
      ]
     },
     "execution_count": 16,
     "metadata": {},
     "output_type": "execute_result"
    }
   ],
   "source": [
    "mr_chi_urls = [ 'https://www.uta-net.com/artist/684/', 'https://www.uta-net.com/artist/684/0/2/']\n",
    "df_mr_chi = scraping_lyric(mr_chi_urls)\n",
    "df_mr_chi.head()"
   ]
  },
  {
   "cell_type": "markdown",
   "metadata": {},
   "source": [
    "歌詞部分とArtistだけ抽出"
   ]
  },
  {
   "cell_type": "code",
   "execution_count": 23,
   "metadata": {
    "ExecuteTime": {
     "end_time": "2020-03-17T08:44:05.709882Z",
     "start_time": "2020-03-17T08:44:05.700669Z"
    }
   },
   "outputs": [
    {
     "name": "stdout",
     "output_type": "stream",
     "text": [
      "(347, 3)\n",
      "(346, 3)\n"
     ]
    }
   ],
   "source": [
    "df_bz_extract = df_bz[['Artist', 'SongName', 'Lyric']]\n",
    "print(df_bz_extract.shape)\n",
    "df_bz_extract = df_bz_extract[~df_bz_extract.duplicated()]\n",
    "print(df_bz_extract.shape)"
   ]
  },
  {
   "cell_type": "code",
   "execution_count": 24,
   "metadata": {
    "ExecuteTime": {
     "end_time": "2020-03-17T08:44:06.555575Z",
     "start_time": "2020-03-17T08:44:06.546903Z"
    }
   },
   "outputs": [
    {
     "name": "stdout",
     "output_type": "stream",
     "text": [
      "(296, 3)\n",
      "(296, 3)\n"
     ]
    }
   ],
   "source": [
    "df_glay_extract = df_glay[['Artist', 'SongName', 'Lyric']]\n",
    "print(df_glay_extract.shape)\n",
    "df_glay_extract = df_glay_extract[~df_glay_extract.duplicated()]\n",
    "print(df_glay_extract.shape)"
   ]
  },
  {
   "cell_type": "code",
   "execution_count": 25,
   "metadata": {
    "ExecuteTime": {
     "end_time": "2020-03-17T08:44:07.113137Z",
     "start_time": "2020-03-17T08:44:07.104703Z"
    }
   },
   "outputs": [
    {
     "name": "stdout",
     "output_type": "stream",
     "text": [
      "(235, 3)\n",
      "(235, 3)\n"
     ]
    }
   ],
   "source": [
    "df_mr_chi_extract = df_mr_chi[['Artist', 'SongName', 'Lyric']]\n",
    "print(df_mr_chi_extract.shape)\n",
    "df_mr_chi_extract = df_mr_chi_extract[~df_mr_chi_extract.duplicated()]\n",
    "print(df_mr_chi_extract.shape)"
   ]
  },
  {
   "cell_type": "code",
   "execution_count": 81,
   "metadata": {
    "ExecuteTime": {
     "end_time": "2020-03-17T11:48:25.702608Z",
     "start_time": "2020-03-17T11:48:25.685380Z"
    }
   },
   "outputs": [
    {
     "data": {
      "text/plain": [
       "(   index Artist                         SongName  \\\n",
       " 0      0    B'z  I WANNA DANCE Wicked Beat Style   \n",
       " 1      1    B'z                       あいかわらずなボクら   \n",
       " 2      2    B'z                       愛と憎しみのハジマリ   \n",
       " 3      3    B'z                           愛のバクダン   \n",
       " 4      4    B'z                       愛のprisoner   \n",
       " \n",
       "                                                Lyric  target  \n",
       " 0  Crush! Crush! Taxi on a busy neon streetGive m...       0  \n",
       " 1  今まで好きなこともしたし たまに我慢もしてきた「あいつはダメだ」 なんてキミ勝手に決めないで...       0  \n",
       " 2  誰もが愛する者　守ろうとしてる頃　憎しみがスキをうかがう大破綻の雰囲気が世界中を取り巻いて朝...       0  \n",
       " 3  今日も一日　不完全な世界きみが泣かなくても　誰か泣く人がこしらえた　悲しみのからくりなんとか...       0  \n",
       " 4  I hate you, hate you　こらえきれずに夜の闇に吠える　涙流さないあなたのど...       0  ,\n",
       "      index       Artist                    SongName  \\\n",
       " 872     30  Mr.Children  ROLLIN' ROLLING ～一見は百聞に如かず   \n",
       " 873     31  Mr.Children                       忘れ得ぬ人   \n",
       " 874     32  Mr.Children                       WALTZ   \n",
       " 875     33  Mr.Children               one two three   \n",
       " 876     34  Mr.Children                  Worlds end   \n",
       " \n",
       "                                                  Lyric  target  \n",
       " 872  いいかい　そこの御主人耳をかっ穿って　よく聞いてってくれいいかい　そこのお嬢さん足を止めて聞...       2  \n",
       " 873  どうしたら説明つくだろう？君に　そして自分自身にまるで理想通りの美しさをすぐ目の前にして寂し...       2  \n",
       " 874  「光」「夢」「微笑み」　さようなら「闇」「絶望」「悲しみ」　こんにちは商品に適さぬと　はじき...       2  \n",
       " 875  ｢戦闘服よりはブレザーがよく似合う｣浴びせられた最終の嫌みが胸をえぐる君の目からすれば　いか...       2  \n",
       " 876  ゆっくり旋回してきた　大型の旅客機が僕らの真上で得意気に太陽に覆い被さった　その分厚い雲を難...       2  )"
      ]
     },
     "execution_count": 81,
     "metadata": {},
     "output_type": "execute_result"
    }
   ],
   "source": [
    "# 連結\n",
    "df_bz_extract['target'] = 0\n",
    "df_glay_extract['target'] = 1\n",
    "df_mr_chi_extract['target'] = 2\n",
    "\n",
    "df_all = pd.concat([df_bz_extract, df_glay_extract, df_mr_chi_extract])\n",
    "df_all.reset_index(inplace=True)\n",
    "df_all.head(), df_all.tail()"
   ]
  },
  {
   "cell_type": "code",
   "execution_count": 82,
   "metadata": {
    "ExecuteTime": {
     "end_time": "2020-03-17T11:48:28.873392Z",
     "start_time": "2020-03-17T11:48:28.869497Z"
    }
   },
   "outputs": [
    {
     "data": {
      "text/plain": [
       "(877, 5)"
      ]
     },
     "execution_count": 82,
     "metadata": {},
     "output_type": "execute_result"
    }
   ],
   "source": [
    "df_all.shape"
   ]
  },
  {
   "cell_type": "code",
   "execution_count": 83,
   "metadata": {
    "ExecuteTime": {
     "end_time": "2020-03-17T11:48:29.477909Z",
     "start_time": "2020-03-17T11:48:29.454633Z"
    }
   },
   "outputs": [],
   "source": [
    "df_all[['Lyric', 'target']].to_csv('data_all.csv', index=False)"
   ]
  },
  {
   "cell_type": "code",
   "execution_count": 84,
   "metadata": {
    "ExecuteTime": {
     "end_time": "2020-03-17T11:48:29.791172Z",
     "start_time": "2020-03-17T11:48:29.785418Z"
    }
   },
   "outputs": [
    {
     "data": {
      "text/plain": [
       "((175, 5), (702, 5))"
      ]
     },
     "execution_count": 84,
     "metadata": {},
     "output_type": "execute_result"
    }
   ],
   "source": [
    "N = len(df_all)\n",
    "df_test = df_all.sample(int(N*0.2))\n",
    "df_train = df_all.drop(df_test.index)\n",
    "df_test.shape, df_train.shape"
   ]
  },
  {
   "cell_type": "code",
   "execution_count": 85,
   "metadata": {
    "ExecuteTime": {
     "end_time": "2020-03-17T11:48:30.076190Z",
     "start_time": "2020-03-17T11:48:30.051068Z"
    }
   },
   "outputs": [],
   "source": [
    "df_test[['Lyric', 'target']].to_csv('test.csv', index=False, header=False,)\n",
    "df_train[['Lyric', 'target']].to_csv('train.csv', index=False, header=False,)"
   ]
  },
  {
   "cell_type": "code",
   "execution_count": null,
   "metadata": {},
   "outputs": [],
   "source": []
  }
 ],
 "metadata": {
  "kernelspec": {
   "display_name": "Python 3",
   "language": "python",
   "name": "python3"
  },
  "language_info": {
   "codemirror_mode": {
    "name": "ipython",
    "version": 3
   },
   "file_extension": ".py",
   "mimetype": "text/x-python",
   "name": "python",
   "nbconvert_exporter": "python",
   "pygments_lexer": "ipython3",
   "version": "3.5.2"
  },
  "toc": {
   "base_numbering": 1,
   "nav_menu": {},
   "number_sections": true,
   "sideBar": true,
   "skip_h1_title": false,
   "title_cell": "Table of Contents",
   "title_sidebar": "Contents",
   "toc_cell": false,
   "toc_position": {},
   "toc_section_display": true,
   "toc_window_display": false
  },
  "varInspector": {
   "cols": {
    "lenName": 16,
    "lenType": 16,
    "lenVar": 40
   },
   "kernels_config": {
    "python": {
     "delete_cmd_postfix": "",
     "delete_cmd_prefix": "del ",
     "library": "var_list.py",
     "varRefreshCmd": "print(var_dic_list())"
    },
    "r": {
     "delete_cmd_postfix": ") ",
     "delete_cmd_prefix": "rm(",
     "library": "var_list.r",
     "varRefreshCmd": "cat(var_dic_list()) "
    }
   },
   "types_to_exclude": [
    "module",
    "function",
    "builtin_function_or_method",
    "instance",
    "_Feature"
   ],
   "window_display": false
  }
 },
 "nbformat": 4,
 "nbformat_minor": 2
}
